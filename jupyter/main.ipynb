{
 "cells": [
  {
   "cell_type": "markdown",
   "metadata": {},
   "source": [
    "Import libs"
   ]
  },
  {
   "cell_type": "code",
   "execution_count": 1,
   "metadata": {},
   "outputs": [],
   "source": [
    "from neo4j import GraphDatabase\n",
    "import pathlib"
   ]
  },
  {
   "cell_type": "markdown",
   "metadata": {},
   "source": [
    "Create connection"
   ]
  },
  {
   "cell_type": "code",
   "execution_count": 15,
   "metadata": {},
   "outputs": [],
   "source": [
    "class Neo4jConnection:\n",
    "    def __init__(self, uri, user, pwd):\n",
    "        self.__uri = uri\n",
    "        self.__user = user\n",
    "        self.__pwd = pwd\n",
    "        self.__driver = None\n",
    "        try:\n",
    "            self.__driver = GraphDatabase.driver(self.__uri, auth=(self.__user, self.__pwd))\n",
    "        except Exception as e:\n",
    "            print(\"Failed to create the driver:\", e)\n",
    "        \n",
    "    def close(self):\n",
    "        if self.__driver is not None:\n",
    "            self.__driver.close()\n",
    "        \n",
    "    def query(self, query, db=None):\n",
    "        assert self.__driver is not None, \"Driver not initialized!\"\n",
    "        session = None\n",
    "        response = None\n",
    "        try: \n",
    "            session = self.__driver.session(database=db) if db is not None else self.__driver.session() \n",
    "            response = list(session.run(query))\n",
    "        except Exception as e:\n",
    "            print(\"Query failed:\", e)\n",
    "        finally: \n",
    "            if session is not None:\n",
    "                session.close()\n",
    "                \n",
    "        return response\n",
    "conn = Neo4jConnection(uri=\"bolt://localhost:7687\", user=\"neo4j\", pwd=\"vovse\")"
   ]
  },
  {
   "cell_type": "markdown",
   "metadata": {},
   "source": [
    "Delete everything in graph"
   ]
  },
  {
   "cell_type": "code",
   "execution_count": 16,
   "metadata": {},
   "outputs": [],
   "source": [
    "query = '''MATCH (n) DETACH DELETE n'''\n",
    "out = conn.query(query)"
   ]
  },
  {
   "cell_type": "markdown",
   "metadata": {},
   "source": [
    "Load computer data"
   ]
  },
  {
   "cell_type": "code",
   "execution_count": 17,
   "metadata": {},
   "outputs": [],
   "source": [
    "query = '''\n",
    "CALL apoc.load.json('%s/../jsondata/0001-computers.json') YIELD value\n",
    "UNWIND value.computers AS c\n",
    "MERGE (computer:Computer {sid:c.SID})\n",
    "SET computer += c.Properties\n",
    "\n",
    "// Local users\n",
    "WITH c, computer\n",
    "UNWIND c.LocalUsers AS lu\n",
    "MERGE (localUser:LocalUser {name:lu.name, sid:lu.SID, computerName:computer.name})\n",
    "MERGE (computer)-[:hasUser]->(localUser)\n",
    "\n",
    "// Local groups\n",
    "WITH c, computer\n",
    "UNWIND c.LocalGroups AS lg\n",
    "MERGE (localGroup:LocalGroup {name:lg.name, sid:lg.SID, computerName:computer.name})\n",
    "MERGE (computer)-[:hasGroup]->(localGroup)\n",
    "\n",
    "// Local group members\n",
    "WITH lg, localGroup, computer\n",
    "UNWIND lg.members AS mb\n",
    "FOREACH (_ IN case when mb.type = 'LocalGroup' then [1] else [] end|\n",
    "\tMERGE (localSubGroup:LocalGroup {name:mb.name, sid:mb.SID, computerName:computer.name})\n",
    "\tMERGE (computer)-[:hasGroup]->(localSubGroup)\n",
    "\tMERGE (localGroup)-[:hasMember]->(localSubGroup)\n",
    ")\n",
    "FOREACH (_ IN case when mb.type = 'LocalUser' then [1] else [] end|\n",
    "\tMERGE (localUser:LocalUser {name:mb.name, sid:mb.SID, computerName:computer.name})\n",
    "\tMERGE (computer)-[:hasUser]->(localUser)\n",
    "\tMERGE (localGroup)-[:hasMember]->(localUser)\n",
    ")\n",
    "FOREACH (_ IN case when mb.type = 'DomainUser' then [1] else [] end|\n",
    "\tMERGE (domainUser:DomainUser {name:mb.name, sid:mb.SID})\n",
    "\tMERGE (localGroup)-[:hasMember]->(domainUser)\n",
    ")\n",
    "FOREACH (_ IN case when mb.type = 'DomainGroup' then [1] else [] end|\n",
    "\tMERGE (domainGroup:DomainGroup {name:mb.name, sid:mb.SID})\n",
    "\tMERGE (localGroup)-[:hasMember]->(domainGroup)\n",
    ");\n",
    "''' % pathlib.Path().absolute().as_uri()\n",
    "out = conn.query(query)"
   ]
  },
  {
   "cell_type": "markdown",
   "metadata": {},
   "source": [
    "Get all data"
   ]
  },
  {
   "cell_type": "code",
   "execution_count": 18,
   "metadata": {},
   "outputs": [
    {
     "data": {
      "text/plain": [
       "[<Record n=<Node id=0 labels=frozenset({'Computer'}) properties={'PrimaryGroupSid': 'S-1-5-21-3712873460-3785406585-1658148875-515', 'haslaps': False, 'operatingsystem': 'Windows Server 2019 Datacenter Evaluation', 'unconstraineddelegation': False, 'enabled': True, 'sid': 'S-1-5-21-3712873460-3785406585-1658148875-1111', 'tier': 1, 'domain': 'HOT.LOCAL', 'pwdlastset': 1592308245, 'name': 'HOT-JUMPHOST.HOT.LOCAL', 'distinguishedname': 'CN=HOT-JUMPHOST,OU=Jumphost,DC=hot,DC=local', 'serviceprincipalnames': ['WSMAN/hot-jumphost', 'WSMAN/hot-jumphost.hot.local', 'TERMSRV/HOT-JUMPHOST', 'TERMSRV/hot-jumphost.hot.local', 'RestrictedKrbHost/HOT-JUMPHOST', 'HOST/HOT-JUMPHOST', 'RestrictedKrbHost/hot-jumphost.hot.local', 'HOST/hot-jumphost.hot.local'], 'lastlogontimestamp': 1592307353}>>,\n",
       " <Record n=<Node id=1 labels=frozenset({'Computer'}) properties={'PrimaryGroupSid': 'S-1-5-21-3712873460-3785406585-1658148875-515', 'haslaps': False, 'operatingsystem': 'Windows Server 2019 Datacenter Evaluation', 'unconstraineddelegation': False, 'enabled': True, 'sid': 'S-1-5-21-3712873460-3785406585-1658148875-1112', 'tier': 1, 'domain': 'HOT.LOCAL', 'pwdlastset': 1592308245, 'name': 'SERVER.HOT.LOCAL', 'distinguishedname': 'CN=SERVER,OU=Jumphost,DC=hot,DC=local', 'serviceprincipalnames': ['WSMAN/server', 'WSMAN/server.hot.local', 'TERMSRV/SERVER', 'TERMSRV/server.hot.local', 'RestrictedKrbHost/SERVER', 'HOST/SERVER', 'RestrictedKrbHost/server.hot.local', 'HOST/server.hot.local'], 'lastlogontimestamp': 1592307353}>>,\n",
       " <Record n=<Node id=2 labels=frozenset({'LocalUser'}) properties={'name': 'Administrator', 'computerName': 'HOT-JUMPHOST.HOT.LOCAL', 'sid': 'HOT-JUMPHOST-500'}>>,\n",
       " <Record n=<Node id=3 labels=frozenset({'LocalUser'}) properties={'name': 'Administrator', 'computerName': 'SERVER.HOT.LOCAL', 'sid': 'SERVER-SID-500'}>>,\n",
       " <Record n=<Node id=4 labels=frozenset({'LocalGroup'}) properties={'name': 'Remote Desktop Users', 'computerName': 'HOT-JUMPHOST.HOT.LOCAL', 'sid': 'S-1-5-32-555'}>>,\n",
       " <Record n=<Node id=5 labels=frozenset({'LocalGroup'}) properties={'name': 'Administrators', 'computerName': 'HOT-JUMPHOST.HOT.LOCAL', 'sid': 'S-1-5-32-544'}>>,\n",
       " <Record n=<Node id=6 labels=frozenset({'LocalGroup'}) properties={'name': 'Remote Management Users', 'computerName': 'HOT-JUMPHOST.HOT.LOCAL', 'sid': 'S-1-5-32-580'}>>,\n",
       " <Record n=<Node id=7 labels=frozenset({'LocalGroup'}) properties={'name': 'Remote Desktop Users', 'computerName': 'SERVER.HOT.LOCAL', 'sid': 'S-1-5-32-555'}>>,\n",
       " <Record n=<Node id=8 labels=frozenset({'LocalGroup'}) properties={'name': 'Administrators', 'computerName': 'SERVER.HOT.LOCAL', 'sid': 'S-1-5-32-544'}>>,\n",
       " <Record n=<Node id=9 labels=frozenset({'LocalGroup'}) properties={'name': 'Remote Management Users', 'computerName': 'SERVER.HOT.LOCAL', 'sid': 'S-1-5-32-580'}>>,\n",
       " <Record n=<Node id=10 labels=frozenset({'DomainGroup'}) properties={'name': 'Domain Users', 'sid': 'S-1-5-21-3712873460-3785406585-1658148875-513'}>>]"
      ]
     },
     "execution_count": 18,
     "metadata": {},
     "output_type": "execute_result"
    }
   ],
   "source": [
    "query = '''MATCH (n) RETURN n'''\n",
    "out = conn.query(query)\n",
    "out"
   ]
  },
  {
   "cell_type": "raw",
   "metadata": {},
   "source": [
    "Get domain users and groups which are admin on a host"
   ]
  },
  {
   "cell_type": "code",
   "execution_count": 32,
   "metadata": {},
   "outputs": [
    {
     "data": {
      "text/plain": [
       "[<Record SamAccountName='Domain Users' computer='HOT-JUMPHOST.HOT.LOCAL'>]"
      ]
     },
     "execution_count": 32,
     "metadata": {},
     "output_type": "execute_result"
    }
   ],
   "source": [
    "query = '''\n",
    "MATCH (adminGrp:LocalGroup)\n",
    "WHERE adminGrp.sid = 'S-1-5-32-544'\n",
    "WITH adminGrp\n",
    "MATCH (adminGrp)-[:hasMember*1..]->(x)\n",
    "WHERE x:DomainUser OR x:DomainGroup\n",
    "RETURN DISTINCT x.name AS SamAccountName, adminGrp.computerName AS computer\n",
    "'''\n",
    "out = conn.query(query)\n",
    "out"
   ]
  }
 ],
 "metadata": {
  "kernelspec": {
   "display_name": "Python 3",
   "language": "python",
   "name": "python3"
  },
  "language_info": {
   "codemirror_mode": {
    "name": "ipython",
    "version": 3
   },
   "file_extension": ".py",
   "mimetype": "text/x-python",
   "name": "python",
   "nbconvert_exporter": "python",
   "pygments_lexer": "ipython3",
   "version": "3.8.6"
  }
 },
 "nbformat": 4,
 "nbformat_minor": 4
}
