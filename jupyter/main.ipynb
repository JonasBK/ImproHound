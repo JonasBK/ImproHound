{
 "cells": [
  {
   "cell_type": "markdown",
   "metadata": {},
   "source": [
    "Import libs"
   ]
  },
  {
   "cell_type": "code",
   "execution_count": 54,
   "metadata": {},
   "outputs": [],
   "source": [
    "from neo4j import GraphDatabase\n",
    "import pathlib"
   ]
  },
  {
   "cell_type": "markdown",
   "metadata": {},
   "source": [
    "Create connection"
   ]
  },
  {
   "cell_type": "code",
   "execution_count": null,
   "metadata": {},
   "outputs": [],
   "source": [
    "class Neo4jConnection:\n",
    "    def __init__(self, uri, user, pwd):\n",
    "        self.__uri = uri\n",
    "        self.__user = user\n",
    "        self.__pwd = pwd\n",
    "        self.__driver = None\n",
    "        try:\n",
    "            self.__driver = GraphDatabase.driver(self.__uri, auth=(self.__user, self.__pwd))\n",
    "        except Exception as e:\n",
    "            print(\"Failed to create the driver:\", e)\n",
    "        \n",
    "    def close(self):\n",
    "        if self.__driver is not None:\n",
    "            self.__driver.close()\n",
    "        \n",
    "    def query(self, query, db=None):\n",
    "        assert self.__driver is not None, \"Driver not initialized!\"\n",
    "        session = None\n",
    "        response = None\n",
    "        try: \n",
    "            session = self.__driver.session(database=db) if db is not None else self.__driver.session() \n",
    "            response = list(session.run(query))\n",
    "        except Exception as e:\n",
    "            print(\"Query failed:\", e)\n",
    "        finally: \n",
    "            if session is not None:\n",
    "                session.close()\n",
    "                \n",
    "        return response\n",
    "conn = Neo4jConnection(uri=\"bolt://localhost:7687\", user=\"neo4j\", pwd=\"vovse\")"
   ]
  },
  {
   "cell_type": "markdown",
   "metadata": {},
   "source": [
    "Delete everything in graph"
   ]
  },
  {
   "cell_type": "code",
   "execution_count": 74,
   "metadata": {},
   "outputs": [],
   "source": [
    "query = '''MATCH (n) DETACH DELETE n'''\n",
    "out = conn.query(query)"
   ]
  },
  {
   "cell_type": "markdown",
   "metadata": {},
   "source": [
    "Load computer data"
   ]
  },
  {
   "cell_type": "code",
   "execution_count": 76,
   "metadata": {},
   "outputs": [],
   "source": [
    "query = '''\n",
    "CALL apoc.load.json('%s/../jsondata/0001-computers.json') YIELD value\n",
    "UNWIND value.computers AS c\n",
    "MERGE (computer:Computer {sid:c.SID})\n",
    "SET computer += c.Properties\n",
    "''' % pathlib.Path().absolute().as_uri()\n",
    "out = conn.query(query)"
   ]
  },
  {
   "cell_type": "code",
   "execution_count": 77,
   "metadata": {},
   "outputs": [
    {
     "data": {
      "text/plain": [
       "[<Record n=<Node id=6 labels=frozenset({'Computer'}) properties={'PrimaryGroupSid': 'S-1-5-21-3712873460-3785406585-1658148875-515', 'haslaps': False, 'operatingsystem': 'Windows Server 2019 Datacenter Evaluation', 'unconstraineddelegation': False, 'enabled': True, 'sid': 'S-1-5-21-3712873460-3785406585-1658148875-1111', 'tier': 1, 'domain': 'HOT.LOCAL', 'pwdlastset': 1592308245, 'name': 'HOT-JUMPHOST.HOT.LOCAL', 'distinguishedname': 'CN=HOT-JUMPHOST,OU=Jumphost,DC=hot,DC=local', 'serviceprincipalnames': ['WSMAN/hot-jumphost', 'WSMAN/hot-jumphost.hot.local', 'TERMSRV/HOT-JUMPHOST', 'TERMSRV/hot-jumphost.hot.local', 'RestrictedKrbHost/HOT-JUMPHOST', 'HOST/HOT-JUMPHOST', 'RestrictedKrbHost/hot-jumphost.hot.local', 'HOST/hot-jumphost.hot.local'], 'lastlogontimestamp': 1592307353}>>,\n",
       " <Record n=<Node id=7 labels=frozenset({'Computer'}) properties={'PrimaryGroupSid': 'S-1-5-21-3712873460-3785406585-1658148875-515', 'haslaps': False, 'operatingsystem': 'Windows Server 2019 Datacenter Evaluation', 'unconstraineddelegation': False, 'enabled': True, 'sid': 'S-1-5-21-3712873460-3785406585-1658148875-1112', 'tier': 1, 'domain': 'HOT.LOCAL', 'pwdlastset': 1592308245, 'name': 'SERVER.HOT.LOCAL', 'distinguishedname': 'CN=SERVER,OU=Jumphost,DC=hot,DC=local', 'serviceprincipalnames': ['WSMAN/server', 'WSMAN/server.hot.local', 'TERMSRV/SERVER', 'TERMSRV/server.hot.local', 'RestrictedKrbHost/SERVER', 'HOST/SERVER', 'RestrictedKrbHost/server.hot.local', 'HOST/server.hot.local'], 'lastlogontimestamp': 1592307353}>>]"
      ]
     },
     "execution_count": 77,
     "metadata": {},
     "output_type": "execute_result"
    }
   ],
   "source": [
    "query = '''MATCH (n) RETURN n'''\n",
    "out = conn.query(query)\n",
    "out"
   ]
  }
 ],
 "metadata": {
  "kernelspec": {
   "display_name": "Python 3",
   "language": "python",
   "name": "python3"
  },
  "language_info": {
   "codemirror_mode": {
    "name": "ipython",
    "version": 3
   },
   "file_extension": ".py",
   "mimetype": "text/x-python",
   "name": "python",
   "nbconvert_exporter": "python",
   "pygments_lexer": "ipython3",
   "version": "3.8.6"
  }
 },
 "nbformat": 4,
 "nbformat_minor": 4
}
