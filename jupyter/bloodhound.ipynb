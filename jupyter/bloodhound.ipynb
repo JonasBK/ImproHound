{
 "cells": [
  {
   "cell_type": "markdown",
   "metadata": {},
   "source": [
    "Tiering of BloodHound data"
   ]
  },
  {
   "cell_type": "markdown",
   "metadata": {},
   "source": [
    "Import libs"
   ]
  },
  {
   "cell_type": "code",
   "execution_count": 13,
   "metadata": {},
   "outputs": [],
   "source": [
    "from neo4j import GraphDatabase\n",
    "import pathlib"
   ]
  },
  {
   "cell_type": "markdown",
   "metadata": {},
   "source": [
    "Create connection"
   ]
  },
  {
   "cell_type": "code",
   "execution_count": 16,
   "metadata": {},
   "outputs": [],
   "source": [
    "class Neo4jConnection:\n",
    "    def __init__(self, uri, user, pwd):\n",
    "        self.__uri = uri\n",
    "        self.__user = user\n",
    "        self.__pwd = pwd\n",
    "        self.__driver = None\n",
    "        try:\n",
    "            self.__driver = GraphDatabase.driver(self.__uri, auth=(self.__user, self.__pwd))\n",
    "        except Exception as e:\n",
    "            print(\"Failed to create the driver:\", e)\n",
    "        \n",
    "    def close(self):\n",
    "        if self.__driver is not None:\n",
    "            self.__driver.close()\n",
    "        \n",
    "    def query(self, query, db=None):\n",
    "        assert self.__driver is not None, \"Driver not initialized!\"\n",
    "        session = None\n",
    "        response = None\n",
    "        try: \n",
    "            session = self.__driver.session(database=db) if db is not None else self.__driver.session() \n",
    "            response = list(session.run(query))\n",
    "        except Exception as e:\n",
    "            print(\"Query failed:\", e)\n",
    "        finally: \n",
    "            if session is not None:\n",
    "                session.close()\n",
    "                \n",
    "        return response\n",
    "conn = Neo4jConnection(uri=\"bolt://localhost:7687\", user=\"neo4j\", pwd=\"bloodhound\")\n",
    "relpath = pathlib.Path().absolute().as_uri()"
   ]
  },
  {
   "cell_type": "markdown",
   "metadata": {},
   "source": [
    "Tier the data"
   ]
  },
  {
   "cell_type": "code",
   "execution_count": 54,
   "metadata": {},
   "outputs": [],
   "source": [
    "query = '''\n",
    "CALL apoc.load.json('%s/../jsondata/bloodhound/tiering-bloodhound.json') YIELD value\n",
    "\n",
    "// Users\n",
    "UNWIND value.users as u\n",
    "MERGE (tier:Tier {level:u.tier})\n",
    "WITH value, tier, u\n",
    "MATCH (user:User) WHERE user.objectid ENDS WITH u.RID\n",
    "MERGE (user)-[tierrel:InTier]->(tier)\n",
    "\n",
    "// Groups\n",
    "WITH value\n",
    "UNWIND value.groups as g\n",
    "MERGE (tier:Tier {level:g.tier})\n",
    "WITH value, tier, g\n",
    "MATCH (group:Group) WHERE group.objectid ENDS WITH g.RID\n",
    "MATCH (principal)-[:MemberOf*1..]->(group) WHERE (principal:User) OR (principal:Computer)\n",
    "MERGE (principal)-[tierrel:InTier]->(tier)\n",
    "\n",
    "// OUs\n",
    "WITH value\n",
    "UNWIND value.ous as o\n",
    "MERGE (tier:Tier {level:o.tier})\n",
    "WITH value, tier, o\n",
    "MATCH (principal) WHERE (principal.distinguishedname ENDS WITH o.path) AND ((principal:User) OR (principal:Computer))\n",
    "MERGE (principal)-[tierrel:InTier]->(tier)\n",
    "''' % (relpath)\n",
    "out = conn.query(query)\n",
    "\n",
    "# Delete the Tier 1 and/or 2 relations for principles in multiple tiers\n",
    "query = '''\n",
    "MATCH (principal) WHERE size((principal)-[:InTier]->()) > 1\n",
    "MATCH (principal)-[:InTier]->(tier)\n",
    "WITH principal, min(tier.level) AS lowestTierLevel\n",
    "MATCH (principal)-[r:InTier]->(tier) WHERE tier.level > lowestTierLevel\n",
    "DELETE r\n",
    "'''\n",
    "out = conn.query(query)"
   ]
  },
  {
   "cell_type": "markdown",
   "metadata": {},
   "source": [
    "Get names of objects in a given tier"
   ]
  },
  {
   "cell_type": "code",
   "execution_count": null,
   "metadata": {},
   "outputs": [],
   "source": [
    "query = '''\n",
    "MATCH (principal)-[:InTier]->(:Tier {level:\"0\"}) RETURN principal.name LIMIT 25\n",
    "'''\n",
    "out = conn.query(query)"
   ]
  },
  {
   "cell_type": "markdown",
   "metadata": {},
   "source": [
    "Get number of principals in a given tier"
   ]
  },
  {
   "cell_type": "code",
   "execution_count": 56,
   "metadata": {},
   "outputs": [],
   "source": [
    "query = '''\n",
    "MATCH (principal)-[:InTier]->(:Tier {level:\"2\"}) RETURN COUNT(principal)\n",
    "'''\n",
    "out = conn.query(query)"
   ]
  },
  {
   "cell_type": "markdown",
   "metadata": {},
   "source": [
    "Clean graph from Tier nodes and relations"
   ]
  },
  {
   "cell_type": "code",
   "execution_count": 53,
   "metadata": {},
   "outputs": [],
   "source": [
    "query = '''\n",
    "MATCH (n:Tier) DETACH DELETE n\n",
    "'''\n",
    "out = conn.query(query)"
   ]
  }
 ],
 "metadata": {
  "kernelspec": {
   "display_name": "Python 3",
   "language": "python",
   "name": "python3"
  },
  "language_info": {
   "codemirror_mode": {
    "name": "ipython",
    "version": 3
   },
   "file_extension": ".py",
   "mimetype": "text/x-python",
   "name": "python",
   "nbconvert_exporter": "python",
   "pygments_lexer": "ipython3",
   "version": "3.8.6"
  }
 },
 "nbformat": 4,
 "nbformat_minor": 4
}
