{
 "cells": [
  {
   "cell_type": "markdown",
   "metadata": {},
   "source": [
    "Tiering of BloodHound data"
   ]
  },
  {
   "cell_type": "markdown",
   "metadata": {},
   "source": [
    "Import libs"
   ]
  },
  {
   "cell_type": "code",
   "execution_count": 65,
   "metadata": {},
   "outputs": [],
   "source": [
    "from neo4j import GraphDatabase\n",
    "import pathlib"
   ]
  },
  {
   "cell_type": "markdown",
   "metadata": {},
   "source": [
    "Create connection"
   ]
  },
  {
   "cell_type": "code",
   "execution_count": 66,
   "metadata": {},
   "outputs": [],
   "source": [
    "class Neo4jConnection:\n",
    "    def __init__(self, uri, user, pwd):\n",
    "        self.__uri = uri\n",
    "        self.__user = user\n",
    "        self.__pwd = pwd\n",
    "        self.__driver = None\n",
    "        try:\n",
    "            self.__driver = GraphDatabase.driver(self.__uri, auth=(self.__user, self.__pwd))\n",
    "        except Exception as e:\n",
    "            print(\"Failed to create the driver:\", e)\n",
    "        \n",
    "    def close(self):\n",
    "        if self.__driver is not None:\n",
    "            self.__driver.close()\n",
    "        \n",
    "    def query(self, query, db=None):\n",
    "        assert self.__driver is not None, \"Driver not initialized!\"\n",
    "        session = None\n",
    "        response = None\n",
    "        try: \n",
    "            session = self.__driver.session(database=db) if db is not None else self.__driver.session() \n",
    "            response = list(session.run(query))\n",
    "        except Exception as e:\n",
    "            print(\"Query failed:\", e)\n",
    "        finally: \n",
    "            if session is not None:\n",
    "                session.close()\n",
    "                \n",
    "        return response\n",
    "conn = Neo4jConnection(uri=\"bolt://localhost:7687\", user=\"neo4j\", pwd=\"bloodhound\")\n",
    "relpath = pathlib.Path().absolute().as_uri()"
   ]
  },
  {
   "cell_type": "markdown",
   "metadata": {},
   "source": [
    "Tiering functions"
   ]
  },
  {
   "cell_type": "code",
   "execution_count": 83,
   "metadata": {},
   "outputs": [],
   "source": [
    "tier_ous = '''\n",
    "UNWIND value.ous as o\n",
    "MATCH (obj) WHERE (obj.distinguishedname ENDS WITH o.path)\n",
    "CALL apoc.create.addLabels(obj, [\"Tier\" + o.tier]) YIELD node\n",
    "RETURN null\n",
    "'''\n",
    "\n",
    "tier_groups = '''\n",
    "UNWIND value.groups as g\n",
    "MATCH (group:Group) WHERE group.objectid ENDS WITH g.RID\n",
    "CALL apoc.create.addLabels(group, [\"Tier\" + g.tier]) YIELD node\n",
    "WITH group, g\n",
    "MATCH (principal)-[:MemberOf*1..]->(group)\n",
    "CALL apoc.create.addLabels(principal, [\"Tier\" + g.tier]) YIELD node\n",
    "RETURN null\n",
    "'''\n",
    "\n",
    "tier_principals = '''\n",
    "UNWIND value.principals as p\n",
    "MATCH (principal) WHERE principal.objectid ENDS WITH p.RID\n",
    "CALL apoc.create.addLabels(principal, [\"Tier\" + p.tier]) YIELD node\n",
    "RETURN null\n",
    "'''"
   ]
  },
  {
   "cell_type": "markdown",
   "metadata": {},
   "source": [
    "Tier the data"
   ]
  },
  {
   "cell_type": "code",
   "execution_count": 84,
   "metadata": {},
   "outputs": [],
   "source": [
    "# Generic tiering\n",
    "query = '''\n",
    "CALL apoc.load.json('%s/../jsondata/bloodhound/generic-tiering-bloodhound.json') YIELD value\n",
    "%s\n",
    "''' % (relpath, tier_ous)\n",
    "out = conn.query(query)\n",
    "query = '''\n",
    "CALL apoc.load.json('%s/../jsondata/bloodhound/generic-tiering-bloodhound.json') YIELD value\n",
    "%s\n",
    "''' % (relpath, tier_groups)\n",
    "out = conn.query(query)\n",
    "query = '''\n",
    "CALL apoc.load.json('%s/../jsondata/bloodhound/generic-tiering-bloodhound.json') YIELD value\n",
    "%s\n",
    "''' % (relpath, tier_principals)\n",
    "out = conn.query(query)\n",
    "\n",
    "# Customer specific tiering\n",
    "query = '''\n",
    "CALL apoc.load.json('%s/../jsondata/bloodhound/customer-tiering-bloodhound.json') YIELD value\n",
    "%s\n",
    "''' % (relpath, tier_ous)\n",
    "out = conn.query(query)\n",
    "query = '''\n",
    "CALL apoc.load.json('%s/../jsondata/bloodhound/customer-tiering-bloodhound.json') YIELD value\n",
    "%s\n",
    "''' % (relpath, tier_groups)\n",
    "out = conn.query(query)\n",
    "query = '''\n",
    "CALL apoc.load.json('%s/../jsondata/bloodhound/customer-tiering-bloodhound.json') YIELD value\n",
    "%s\n",
    "''' % (relpath, tier_principals)\n",
    "out = conn.query(query)\n",
    "\n",
    "# Add all nodes to the default tier\n",
    "query = '''\n",
    "CALL apoc.load.json('%s/../jsondata/bloodhound/generic-tiering-bloodhound.json') YIELD value\n",
    "WITH value.defaulttier AS defaulttier\n",
    "MATCH (obj)\n",
    "CALL apoc.create.addLabels(obj, [\"Tier\" + defaulttier]) YIELD node\n",
    "RETURN null\n",
    "''' % relpath\n",
    "out = conn.query(query)\n",
    "\n",
    "# Delete higher tier labels for objects in multiple tiers\n",
    "query = '''\n",
    "MATCH (n) \n",
    "UNWIND labels(n) AS label\n",
    "WITH n, label WHERE label STARTS WITH \"Tier\"\n",
    "WITH n, label ORDER BY label ASC\n",
    "WITH n, tail(collect(label)) AS wrongTiers\n",
    "CALL apoc.create.removeLabels(n, wrongTiers)\n",
    "YIELD node RETURN null\n",
    "'''\n",
    "out = conn.query(query)\n",
    "\n",
    "# Set groups to be in the same tier as the highest tier of their members\n",
    "query = '''\n",
    "MATCH (group:Group)\n",
    "MATCH (principal)-[:MemberOf*1..]->(group)\n",
    "UNWIND labels(principal) AS allLabels\n",
    "WITH DISTINCT allLabels, group WHERE allLabels STARTS WITH \"Tier\"\n",
    "WITH group, allLabels ORDER BY allLabels DESC\n",
    "WITH group, head(collect(allLabels)) AS rightTier\n",
    "CALL apoc.create.setLabels(group, [\"Base\", \"Group\", rightTier]) YIELD node\n",
    "RETURN null\n",
    "'''\n",
    "out = conn.query(query)\n",
    "\n",
    "# Set OUs to be in the same tier as the lowest tier of their content\n",
    "query = '''\n",
    "MATCH (ou:OU)\n",
    "WITH ou, size(ou.distinguishedname) AS oUSize\n",
    "WITH ou, oUSize ORDER BY oUSize DESC\n",
    "MATCH (ou)-[:Contains*1..]->(obj)\n",
    "UNWIND labels(obj) AS allLabels\n",
    "WITH DISTINCT allLabels, ou WHERE allLabels STARTS WITH \"Tier\"\n",
    "WITH ou, allLabels ORDER BY allLabels ASC\n",
    "WITH ou, head(collect(allLabels)) AS rightTier\n",
    "CALL apoc.create.setLabels(ou, [\"Base\", \"OU\", rightTier]) YIELD node\n",
    "RETURN null\n",
    "'''\n",
    "out = conn.query(query)\n",
    "\n",
    "# Set Domains to be in Tier 0\n",
    "query = '''\n",
    "MATCH (domain:Domain)\n",
    "CALL apoc.create.setLabels(domain, [\"Base\", \"Domain\", \"Tier0\"]) YIELD node\n",
    "RETURN null\n",
    "'''\n",
    "out = conn.query(query)\n",
    "\n",
    "# Set GPOs to be in the same tier as the lowest tier of the OUs (or domain) linked to\n",
    "query = '''\n",
    "MATCH (gpo:GPO)\n",
    "MATCH (gpo)-[:GpLink]->(ou)\n",
    "UNWIND labels(ou) AS allLabels\n",
    "WITH DISTINCT allLabels, gpo WHERE allLabels STARTS WITH \"Tier\"\n",
    "WITH gpo, allLabels ORDER BY allLabels ASC\n",
    "WITH gpo, head(collect(allLabels)) AS rightTier\n",
    "CALL apoc.create.setLabels(gpo, [\"Base\", \"GPO\", rightTier]) YIELD node\n",
    "RETURN null\n",
    "'''\n",
    "out = conn.query(query)"
   ]
  },
  {
   "cell_type": "markdown",
   "metadata": {},
   "source": [
    "Get names of objects in a given tier"
   ]
  },
  {
   "cell_type": "code",
   "execution_count": 56,
   "metadata": {},
   "outputs": [],
   "source": [
    "query = '''\n",
    "MATCH (obj:Tier0) RETURN obj.name LIMIT 10\n",
    "'''\n",
    "out = conn.query(query)"
   ]
  },
  {
   "cell_type": "markdown",
   "metadata": {},
   "source": [
    "Get number of principals in a given tier"
   ]
  },
  {
   "cell_type": "code",
   "execution_count": 58,
   "metadata": {},
   "outputs": [],
   "source": [
    "query = '''\n",
    "MATCH (obj:Tier0) RETURN COUNT(obj)\n",
    "'''\n",
    "out = conn.query(query)"
   ]
  },
  {
   "cell_type": "markdown",
   "metadata": {},
   "source": [
    "Get number of Tier 2 principals with path to Tier 0 principals"
   ]
  },
  {
   "cell_type": "code",
   "execution_count": 32,
   "metadata": {},
   "outputs": [],
   "source": [
    "query = '''\n",
    "MATCH (t0:Tier0)\n",
    "CALL apoc.path.expandConfig(t0, {\n",
    "    relationshipFilter: \"<\",\n",
    "    labelFilter: \">Tier2\",\n",
    "    minLevel: 1,\n",
    "    maxLevel: 3\n",
    "})\n",
    "YIELD path RETURN path\n",
    "'''"
   ]
  },
  {
   "cell_type": "markdown",
   "metadata": {},
   "source": [
    "Check if any node is more than one tier"
   ]
  },
  {
   "cell_type": "code",
   "execution_count": 63,
   "metadata": {},
   "outputs": [
    {
     "data": {
      "text/plain": [
       "[]"
      ]
     },
     "execution_count": 63,
     "metadata": {},
     "output_type": "execute_result"
    }
   ],
   "source": [
    "query = '''\n",
    "MATCH (n) \n",
    "UNWIND labels(n) AS allLabels\n",
    "WITH DISTINCT allLabels, n WHERE allLabels STARTS WITH \"Tier\"\n",
    "WITH n, size(collect(allLabels)) AS numOfTiers\n",
    "WITH n WHERE numOfTiers > 1\n",
    "RETURN n\n",
    "'''\n",
    "out = conn.query(query)\n",
    "out"
   ]
  },
  {
   "cell_type": "markdown",
   "metadata": {},
   "source": [
    "Get number of objects in each tier"
   ]
  },
  {
   "cell_type": "code",
   "execution_count": 62,
   "metadata": {},
   "outputs": [
    {
     "data": {
      "text/plain": [
       "[<Record label='Tier2' tierObjs=19236>,\n",
       " <Record label='Tier1' tierObjs=1466>,\n",
       " <Record label='Tier0' tierObjs=193>]"
      ]
     },
     "execution_count": 62,
     "metadata": {},
     "output_type": "execute_result"
    }
   ],
   "source": [
    "query = '''\n",
    "CALL db.labels()\n",
    "YIELD label WHERE label STARTS WITH \"Tier\"\n",
    "WITH label ORDER BY label DESC\n",
    "MATCH (n) WHERE label IN labels(n)\n",
    "WITH label, count(n) as tierObjs\n",
    "RETURN label, tierObjs\n",
    "'''\n",
    "out = conn.query(query)\n",
    "out"
   ]
  },
  {
   "cell_type": "markdown",
   "metadata": {},
   "source": [
    "Check if number of tiered nodes match total number of nodes"
   ]
  },
  {
   "cell_type": "code",
   "execution_count": 64,
   "metadata": {},
   "outputs": [
    {
     "data": {
      "text/plain": [
       "[<Record tierObjs=20895 count(n)=20895>]"
      ]
     },
     "execution_count": 64,
     "metadata": {},
     "output_type": "execute_result"
    }
   ],
   "source": [
    "query = '''\n",
    "CALL db.labels()\n",
    "YIELD label WHERE label STARTS WITH \"Tier\"\n",
    "WITH label ORDER BY label DESC\n",
    "MATCH (n) WHERE label IN labels(n)\n",
    "WITH count(n) AS tierObjs\n",
    "MATCH (n)\n",
    "RETURN tierObjs, count(n)\n",
    "'''\n",
    "out = conn.query(query)\n",
    "out"
   ]
  },
  {
   "cell_type": "markdown",
   "metadata": {},
   "source": [
    "Get Tier 2 -> Tier 0 relations"
   ]
  },
  {
   "cell_type": "code",
   "execution_count": 72,
   "metadata": {},
   "outputs": [],
   "source": [
    "query = '''\n",
    "MATCH path=(t2:Tier2)-[r]->(t0:Tier0) RETURN labels(t2), t2.name, TYPE(r), labels(t0), collect(t0.name) ORDER BY t2.name LIMIT 15\n",
    "'''\n",
    "out = conn.query(query)"
   ]
  },
  {
   "cell_type": "markdown",
   "metadata": {},
   "source": [
    "Clean graph from Tier nodes and relations"
   ]
  },
  {
   "cell_type": "code",
   "execution_count": 82,
   "metadata": {},
   "outputs": [],
   "source": [
    "query = '''\n",
    "CALL db.labels()\n",
    "YIELD label WHERE label STARTS WITH \"Tier\"\n",
    "WITH collect(label) AS labels\n",
    "MATCH (p)\n",
    "WITH collect(p) AS people, labels\n",
    "CALL apoc.create.removeLabels(people, labels)\n",
    "YIELD node RETURN null\n",
    "'''\n",
    "out = conn.query(query)"
   ]
  }
 ],
 "metadata": {
  "kernelspec": {
   "display_name": "Python 3",
   "language": "python",
   "name": "python3"
  },
  "language_info": {
   "codemirror_mode": {
    "name": "ipython",
    "version": 3
   },
   "file_extension": ".py",
   "mimetype": "text/x-python",
   "name": "python",
   "nbconvert_exporter": "python",
   "pygments_lexer": "ipython3",
   "version": "3.8.6"
  }
 },
 "nbformat": 4,
 "nbformat_minor": 4
}
