{
 "cells": [
  {
   "cell_type": "markdown",
   "metadata": {},
   "source": [
    "Tiering of BloodHound data"
   ]
  },
  {
   "cell_type": "markdown",
   "metadata": {},
   "source": [
    "Import libs"
   ]
  },
  {
   "cell_type": "code",
   "execution_count": 2,
   "metadata": {},
   "outputs": [],
   "source": [
    "from neo4j import GraphDatabase\n",
    "import pathlib"
   ]
  },
  {
   "cell_type": "markdown",
   "metadata": {},
   "source": [
    "Create connection"
   ]
  },
  {
   "cell_type": "code",
   "execution_count": 3,
   "metadata": {},
   "outputs": [],
   "source": [
    "class Neo4jConnection:\n",
    "    def __init__(self, uri, user, pwd):\n",
    "        self.__uri = uri\n",
    "        self.__user = user\n",
    "        self.__pwd = pwd\n",
    "        self.__driver = None\n",
    "        try:\n",
    "            self.__driver = GraphDatabase.driver(self.__uri, auth=(self.__user, self.__pwd))\n",
    "        except Exception as e:\n",
    "            print(\"Failed to create the driver:\", e)\n",
    "        \n",
    "    def close(self):\n",
    "        if self.__driver is not None:\n",
    "            self.__driver.close()\n",
    "        \n",
    "    def query(self, query, db=None):\n",
    "        assert self.__driver is not None, \"Driver not initialized!\"\n",
    "        session = None\n",
    "        response = None\n",
    "        try: \n",
    "            session = self.__driver.session(database=db) if db is not None else self.__driver.session() \n",
    "            response = list(session.run(query))\n",
    "        except Exception as e:\n",
    "            print(\"Query failed:\", e)\n",
    "        finally: \n",
    "            if session is not None:\n",
    "                session.close()\n",
    "                \n",
    "        return response\n",
    "conn = Neo4jConnection(uri=\"bolt://localhost:7687\", user=\"neo4j\", pwd=\"bloodhound\")\n",
    "relpath = pathlib.Path().absolute().as_uri()"
   ]
  },
  {
   "cell_type": "markdown",
   "metadata": {},
   "source": [
    "Tiering functions"
   ]
  },
  {
   "cell_type": "code",
   "execution_count": 4,
   "metadata": {},
   "outputs": [],
   "source": [
    "tier_ous = '''\n",
    "UNWIND value.ous as o\n",
    "MATCH (obj) WHERE (obj.distinguishedname ENDS WITH o.path) AND ((obj:User) OR (obj:Computer))\n",
    "CALL apoc.create.addLabels(obj, [\"Tier\" + o.tier]) YIELD node\n",
    "RETURN null\n",
    "'''\n",
    "\n",
    "tier_users = '''\n",
    "UNWIND value.users as u\n",
    "MATCH (user:User) WHERE user.objectid ENDS WITH u.RID\n",
    "CALL apoc.create.addLabels(user, [\"Tier\" + u.tier]) YIELD node\n",
    "RETURN null\n",
    "'''\n",
    "\n",
    "tier_groups = '''\n",
    "UNWIND value.groups as g\n",
    "MATCH (group:Group) WHERE group.objectid ENDS WITH g.RID\n",
    "WITH group, g\n",
    "MATCH (principal)-[:MemberOf*1..]->(group) WHERE (principal:User) OR (principal:Computer)\n",
    "CALL apoc.create.addLabels(principal, [\"Tier\" + g.tier]) YIELD node\n",
    "RETURN null\n",
    "'''"
   ]
  },
  {
   "cell_type": "markdown",
   "metadata": {},
   "source": [
    "Tier the data"
   ]
  },
  {
   "cell_type": "code",
   "execution_count": 11,
   "metadata": {},
   "outputs": [],
   "source": [
    "# Generic tiering\n",
    "query = '''\n",
    "CALL apoc.load.json('%s/../jsondata/bloodhound/generic-tiering-bloodhound.json') YIELD value\n",
    "%s\n",
    "''' % (relpath, tier_groups)\n",
    "out = conn.query(query)\n",
    "query = '''\n",
    "CALL apoc.load.json('%s/../jsondata/bloodhound/generic-tiering-bloodhound.json') YIELD value\n",
    "%s\n",
    "''' % (relpath, tier_users)\n",
    "out = conn.query(query)\n",
    "query = '''\n",
    "CALL apoc.load.json('%s/../jsondata/bloodhound/generic-tiering-bloodhound.json') YIELD value\n",
    "%s\n",
    "''' % (relpath, tier_ous)\n",
    "out = conn.query(query)\n",
    "\n",
    "\n",
    "# Customer specific tiering\n",
    "query = '''\n",
    "CALL apoc.load.json('%s/../jsondata/bloodhound/customer-tiering-bloodhound.json') YIELD value\n",
    "%s\n",
    "''' % (relpath, tier_groups)\n",
    "out = conn.query(query)\n",
    "query = '''\n",
    "CALL apoc.load.json('%s/../jsondata/bloodhound/customer-tiering-bloodhound.json') YIELD value\n",
    "%s\n",
    "''' % (relpath, tier_users)\n",
    "out = conn.query(query)\n",
    "query = '''\n",
    "CALL apoc.load.json('%s/../jsondata/bloodhound/customer-tiering-bloodhound.json') YIELD value\n",
    "%s\n",
    "''' % (relpath, tier_ous)\n",
    "out = conn.query(query)\n",
    "\n",
    "# Delete higher tier labels for objects in multiple tiers\n",
    "query = '''\n",
    "match (n) \n",
    "UNWIND labels(n) as label\n",
    "WITH n, label WHERE label STARTS WITH \"Tier\"\n",
    "WITH n, label ORDER BY label ASC\n",
    "WITH n, size(collect(label)) as noOfTiers, collect(label) as tiers\n",
    "CALL apoc.create.removeLabels(n, tiers[1..noOfTiers])\n",
    "YIELD node RETURN null\n",
    "'''\n",
    "out = conn.query(query)"
   ]
  },
  {
   "cell_type": "markdown",
   "metadata": {},
   "source": [
    "Get names of objects in a given tier"
   ]
  },
  {
   "cell_type": "code",
   "execution_count": 56,
   "metadata": {},
   "outputs": [],
   "source": [
    "query = '''\n",
    "MATCH (obj:Tier0) RETURN obj.name LIMIT 10\n",
    "'''\n",
    "out = conn.query(query)"
   ]
  },
  {
   "cell_type": "markdown",
   "metadata": {},
   "source": [
    "Get number of principals in a given tier"
   ]
  },
  {
   "cell_type": "code",
   "execution_count": 58,
   "metadata": {},
   "outputs": [],
   "source": [
    "query = '''\n",
    "MATCH (obj:Tier0) RETURN COUNT(obj)\n",
    "'''\n",
    "out = conn.query(query)"
   ]
  },
  {
   "cell_type": "markdown",
   "metadata": {},
   "source": [
    "Get number of Tier 2 principals with path to Tier 0 principals"
   ]
  },
  {
   "cell_type": "code",
   "execution_count": null,
   "metadata": {},
   "outputs": [],
   "source": [
    "query = '''MATCH (t0:Tier0)\n",
    "CALL apoc.path.expandConfig(t0, {\n",
    "    relationshipFilter: \"<\",\n",
    "    labelFilter: \">Tier2\",\n",
    "    minLevel: 1,\n",
    "    maxLevel: 3\n",
    "})\n",
    "YIELD path RETURN path\n",
    "'''"
   ]
  },
  {
   "cell_type": "markdown",
   "metadata": {},
   "source": [
    "Clean graph from Tier nodes and relations"
   ]
  },
  {
   "cell_type": "code",
   "execution_count": 10,
   "metadata": {},
   "outputs": [],
   "source": [
    "query = '''\n",
    "CALL db.labels()\n",
    "YIELD label WHERE label STARTS WITH \"Tier\"\n",
    "WITH collect(label) AS labels\n",
    "MATCH (p)\n",
    "WITH collect(p) AS people, labels\n",
    "CALL apoc.create.removeLabels(people, labels)\n",
    "YIELD node RETURN null\n",
    "'''\n",
    "out = conn.query(query)"
   ]
  }
 ],
 "metadata": {
  "kernelspec": {
   "display_name": "Python 3",
   "language": "python",
   "name": "python3"
  },
  "language_info": {
   "codemirror_mode": {
    "name": "ipython",
    "version": 3
   },
   "file_extension": ".py",
   "mimetype": "text/x-python",
   "name": "python",
   "nbconvert_exporter": "python",
   "pygments_lexer": "ipython3",
   "version": "3.8.6"
  }
 },
 "nbformat": 4,
 "nbformat_minor": 4
}
